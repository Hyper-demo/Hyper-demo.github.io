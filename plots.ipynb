{
 "cells": [
  {
   "cell_type": "code",
   "execution_count": 1,
   "id": "cc6dae40",
   "metadata": {},
   "outputs": [],
   "source": [
    "import seaborn as sns\n",
    "import pandas as pd\n",
    "from matplotlib import pyplot as plt\n",
    "import numpy as np"
   ]
  },
  {
   "cell_type": "code",
   "execution_count": 2,
   "id": "9184d1e9",
   "metadata": {},
   "outputs": [],
   "source": [
    "PATH_DATA = 'other/'"
   ]
  },
  {
   "cell_type": "code",
   "execution_count": 3,
   "id": "5c8c85e8",
   "metadata": {},
   "outputs": [],
   "source": [
    "df_prod = pd.read_csv(PATH_DATA + 'amazon_product.csv')\n",
    "df_rev = pd.read_csv(PATH_DATA + 'amazon_review.csv')"
   ]
  },
  {
   "cell_type": "code",
   "execution_count": 7,
   "id": "465caef9",
   "metadata": {},
   "outputs": [
    {
     "data": {
      "text/html": [
       "<div>\n",
       "<style scoped>\n",
       "    .dataframe tbody tr th:only-of-type {\n",
       "        vertical-align: middle;\n",
       "    }\n",
       "\n",
       "    .dataframe tbody tr th {\n",
       "        vertical-align: top;\n",
       "    }\n",
       "\n",
       "    .dataframe thead th {\n",
       "        text-align: right;\n",
       "    }\n",
       "</style>\n",
       "<table border=\"1\" class=\"dataframe\">\n",
       "  <thead>\n",
       "    <tr style=\"text-align: right;\">\n",
       "      <th></th>\n",
       "      <th>Tuple ID</th>\n",
       "      <th>PID</th>\n",
       "      <th>Category</th>\n",
       "      <th>Price</th>\n",
       "      <th>Brand</th>\n",
       "      <th>Color</th>\n",
       "      <th>Quality</th>\n",
       "    </tr>\n",
       "  </thead>\n",
       "  <tbody>\n",
       "    <tr>\n",
       "      <th>0</th>\n",
       "      <td>p1</td>\n",
       "      <td>1</td>\n",
       "      <td>Laptop</td>\n",
       "      <td>999.00</td>\n",
       "      <td>Vaio</td>\n",
       "      <td>Silver</td>\n",
       "      <td>0.70</td>\n",
       "    </tr>\n",
       "    <tr>\n",
       "      <th>1</th>\n",
       "      <td>p2</td>\n",
       "      <td>2</td>\n",
       "      <td>Laptop</td>\n",
       "      <td>529.00</td>\n",
       "      <td>Asus</td>\n",
       "      <td>Black</td>\n",
       "      <td>0.65</td>\n",
       "    </tr>\n",
       "    <tr>\n",
       "      <th>2</th>\n",
       "      <td>p3</td>\n",
       "      <td>3</td>\n",
       "      <td>Laptop</td>\n",
       "      <td>599.00</td>\n",
       "      <td>HP</td>\n",
       "      <td>Silver</td>\n",
       "      <td>0.50</td>\n",
       "    </tr>\n",
       "    <tr>\n",
       "      <th>3</th>\n",
       "      <td>p4</td>\n",
       "      <td>4</td>\n",
       "      <td>DSLR Camera</td>\n",
       "      <td>549.00</td>\n",
       "      <td>Canon</td>\n",
       "      <td>Black</td>\n",
       "      <td>0.75</td>\n",
       "    </tr>\n",
       "    <tr>\n",
       "      <th>4</th>\n",
       "      <td>p5</td>\n",
       "      <td>5</td>\n",
       "      <td>Sci Fi eBooks</td>\n",
       "      <td>15.99</td>\n",
       "      <td>Fantasy Press</td>\n",
       "      <td>Blue</td>\n",
       "      <td>0.40</td>\n",
       "    </tr>\n",
       "  </tbody>\n",
       "</table>\n",
       "</div>"
      ],
      "text/plain": [
       "  Tuple ID  PID       Category   Price          Brand   Color  Quality\n",
       "0       p1    1         Laptop  999.00           Vaio  Silver     0.70\n",
       "1       p2    2         Laptop  529.00           Asus   Black     0.65\n",
       "2       p3    3         Laptop  599.00             HP  Silver     0.50\n",
       "3       p4    4    DSLR Camera  549.00          Canon   Black     0.75\n",
       "4       p5    5  Sci Fi eBooks   15.99  Fantasy Press    Blue     0.40"
      ]
     },
     "execution_count": 7,
     "metadata": {},
     "output_type": "execute_result"
    }
   ],
   "source": [
    "df_prod"
   ]
  },
  {
   "cell_type": "code",
   "execution_count": 37,
   "id": "0f731f17",
   "metadata": {},
   "outputs": [],
   "source": [
    "# df_prod.to_html()\n",
    "# print(df_prod.style)\n",
    "\n",
    "# style1 = df_prod.style\n",
    "# style1.export()"
   ]
  },
  {
   "cell_type": "code",
   "execution_count": 38,
   "id": "d7e9853d",
   "metadata": {},
   "outputs": [
    {
     "data": {
      "text/html": [
       "<div>\n",
       "<style scoped>\n",
       "    .dataframe tbody tr th:only-of-type {\n",
       "        vertical-align: middle;\n",
       "    }\n",
       "\n",
       "    .dataframe tbody tr th {\n",
       "        vertical-align: top;\n",
       "    }\n",
       "\n",
       "    .dataframe thead th {\n",
       "        text-align: right;\n",
       "    }\n",
       "</style>\n",
       "<table border=\"1\" class=\"dataframe\">\n",
       "  <thead>\n",
       "    <tr style=\"text-align: right;\">\n",
       "      <th></th>\n",
       "      <th>Tuple ID</th>\n",
       "      <th>PID</th>\n",
       "      <th>ReviewID</th>\n",
       "      <th>Sentiment</th>\n",
       "      <th>Rating</th>\n",
       "    </tr>\n",
       "  </thead>\n",
       "  <tbody>\n",
       "    <tr>\n",
       "      <th>0</th>\n",
       "      <td>r1</td>\n",
       "      <td>1</td>\n",
       "      <td>1</td>\n",
       "      <td>-0.95</td>\n",
       "      <td>2</td>\n",
       "    </tr>\n",
       "    <tr>\n",
       "      <th>1</th>\n",
       "      <td>r2</td>\n",
       "      <td>2</td>\n",
       "      <td>2</td>\n",
       "      <td>0.70</td>\n",
       "      <td>4</td>\n",
       "    </tr>\n",
       "    <tr>\n",
       "      <th>2</th>\n",
       "      <td>r3</td>\n",
       "      <td>2</td>\n",
       "      <td>3</td>\n",
       "      <td>-0.20</td>\n",
       "      <td>1</td>\n",
       "    </tr>\n",
       "    <tr>\n",
       "      <th>3</th>\n",
       "      <td>r4</td>\n",
       "      <td>3</td>\n",
       "      <td>3</td>\n",
       "      <td>0.23</td>\n",
       "      <td>3</td>\n",
       "    </tr>\n",
       "    <tr>\n",
       "      <th>4</th>\n",
       "      <td>r5</td>\n",
       "      <td>3</td>\n",
       "      <td>5</td>\n",
       "      <td>0.95</td>\n",
       "      <td>5</td>\n",
       "    </tr>\n",
       "  </tbody>\n",
       "</table>\n",
       "</div>"
      ],
      "text/plain": [
       "  Tuple ID  PID  ReviewID  Sentiment  Rating\n",
       "0       r1    1         1      -0.95       2\n",
       "1       r2    2         2       0.70       4\n",
       "2       r3    2         3      -0.20       1\n",
       "3       r4    3         3       0.23       3\n",
       "4       r5    3         5       0.95       5"
      ]
     },
     "execution_count": 38,
     "metadata": {},
     "output_type": "execute_result"
    }
   ],
   "source": [
    "df_rev.head()"
   ]
  },
  {
   "cell_type": "code",
   "execution_count": 4,
   "id": "bbf69eed",
   "metadata": {},
   "outputs": [
    {
     "data": {
      "text/html": [
       "<div>\n",
       "<style scoped>\n",
       "    .dataframe tbody tr th:only-of-type {\n",
       "        vertical-align: middle;\n",
       "    }\n",
       "\n",
       "    .dataframe tbody tr th {\n",
       "        vertical-align: top;\n",
       "    }\n",
       "\n",
       "    .dataframe thead th {\n",
       "        text-align: right;\n",
       "    }\n",
       "</style>\n",
       "<table border=\"1\" class=\"dataframe\">\n",
       "  <thead>\n",
       "    <tr style=\"text-align: right;\">\n",
       "      <th></th>\n",
       "      <th>Tuple ID_x</th>\n",
       "      <th>PID</th>\n",
       "      <th>Category</th>\n",
       "      <th>Price</th>\n",
       "      <th>Brand</th>\n",
       "      <th>Color</th>\n",
       "      <th>Quality</th>\n",
       "      <th>Tuple ID_y</th>\n",
       "      <th>ReviewID</th>\n",
       "      <th>Sentiment</th>\n",
       "      <th>Rating</th>\n",
       "    </tr>\n",
       "  </thead>\n",
       "  <tbody>\n",
       "    <tr>\n",
       "      <th>0</th>\n",
       "      <td>p1</td>\n",
       "      <td>1</td>\n",
       "      <td>Laptop</td>\n",
       "      <td>999.0</td>\n",
       "      <td>Vaio</td>\n",
       "      <td>Silver</td>\n",
       "      <td>0.70</td>\n",
       "      <td>r1</td>\n",
       "      <td>1</td>\n",
       "      <td>-0.95</td>\n",
       "      <td>2</td>\n",
       "    </tr>\n",
       "    <tr>\n",
       "      <th>1</th>\n",
       "      <td>p2</td>\n",
       "      <td>2</td>\n",
       "      <td>Laptop</td>\n",
       "      <td>529.0</td>\n",
       "      <td>Asus</td>\n",
       "      <td>Black</td>\n",
       "      <td>0.65</td>\n",
       "      <td>r2</td>\n",
       "      <td>2</td>\n",
       "      <td>0.70</td>\n",
       "      <td>4</td>\n",
       "    </tr>\n",
       "    <tr>\n",
       "      <th>2</th>\n",
       "      <td>p2</td>\n",
       "      <td>2</td>\n",
       "      <td>Laptop</td>\n",
       "      <td>529.0</td>\n",
       "      <td>Asus</td>\n",
       "      <td>Black</td>\n",
       "      <td>0.65</td>\n",
       "      <td>r3</td>\n",
       "      <td>3</td>\n",
       "      <td>-0.20</td>\n",
       "      <td>1</td>\n",
       "    </tr>\n",
       "    <tr>\n",
       "      <th>3</th>\n",
       "      <td>p3</td>\n",
       "      <td>3</td>\n",
       "      <td>Laptop</td>\n",
       "      <td>599.0</td>\n",
       "      <td>HP</td>\n",
       "      <td>Silver</td>\n",
       "      <td>0.50</td>\n",
       "      <td>r4</td>\n",
       "      <td>3</td>\n",
       "      <td>0.23</td>\n",
       "      <td>3</td>\n",
       "    </tr>\n",
       "    <tr>\n",
       "      <th>4</th>\n",
       "      <td>p3</td>\n",
       "      <td>3</td>\n",
       "      <td>Laptop</td>\n",
       "      <td>599.0</td>\n",
       "      <td>HP</td>\n",
       "      <td>Silver</td>\n",
       "      <td>0.50</td>\n",
       "      <td>r5</td>\n",
       "      <td>5</td>\n",
       "      <td>0.95</td>\n",
       "      <td>5</td>\n",
       "    </tr>\n",
       "    <tr>\n",
       "      <th>5</th>\n",
       "      <td>p4</td>\n",
       "      <td>4</td>\n",
       "      <td>DSLR Camera</td>\n",
       "      <td>549.0</td>\n",
       "      <td>Canon</td>\n",
       "      <td>Black</td>\n",
       "      <td>0.75</td>\n",
       "      <td>r6</td>\n",
       "      <td>5</td>\n",
       "      <td>0.70</td>\n",
       "      <td>4</td>\n",
       "    </tr>\n",
       "  </tbody>\n",
       "</table>\n",
       "</div>"
      ],
      "text/plain": [
       "  Tuple ID_x  PID     Category  Price  Brand   Color  Quality Tuple ID_y  \\\n",
       "0         p1    1       Laptop  999.0   Vaio  Silver     0.70         r1   \n",
       "1         p2    2       Laptop  529.0   Asus   Black     0.65         r2   \n",
       "2         p2    2       Laptop  529.0   Asus   Black     0.65         r3   \n",
       "3         p3    3       Laptop  599.0     HP  Silver     0.50         r4   \n",
       "4         p3    3       Laptop  599.0     HP  Silver     0.50         r5   \n",
       "5         p4    4  DSLR Camera  549.0  Canon   Black     0.75         r6   \n",
       "\n",
       "   ReviewID  Sentiment  Rating  \n",
       "0         1      -0.95       2  \n",
       "1         2       0.70       4  \n",
       "2         3      -0.20       1  \n",
       "3         3       0.23       3  \n",
       "4         5       0.95       5  \n",
       "5         5       0.70       4  "
      ]
     },
     "execution_count": 4,
     "metadata": {},
     "output_type": "execute_result"
    }
   ],
   "source": [
    "df_rel = df_prod.merge(df_rev, how='inner', on='PID')\n",
    "df_rel"
   ]
  },
  {
   "cell_type": "code",
   "execution_count": 40,
   "id": "f4ccea97",
   "metadata": {},
   "outputs": [
    {
     "data": {
      "text/html": [
       "<div>\n",
       "<style scoped>\n",
       "    .dataframe tbody tr th:only-of-type {\n",
       "        vertical-align: middle;\n",
       "    }\n",
       "\n",
       "    .dataframe tbody tr th {\n",
       "        vertical-align: top;\n",
       "    }\n",
       "\n",
       "    .dataframe thead th {\n",
       "        text-align: right;\n",
       "    }\n",
       "</style>\n",
       "<table border=\"1\" class=\"dataframe\">\n",
       "  <thead>\n",
       "    <tr style=\"text-align: right;\">\n",
       "      <th></th>\n",
       "      <th>PID</th>\n",
       "      <th>Category</th>\n",
       "      <th>Price</th>\n",
       "      <th>Brand</th>\n",
       "      <th>Color</th>\n",
       "      <th>Quality</th>\n",
       "      <th>ReviewID</th>\n",
       "      <th>Senti</th>\n",
       "      <th>Rtng</th>\n",
       "    </tr>\n",
       "  </thead>\n",
       "  <tbody>\n",
       "    <tr>\n",
       "      <th>0</th>\n",
       "      <td>1</td>\n",
       "      <td>Laptop</td>\n",
       "      <td>999.0</td>\n",
       "      <td>Vaio</td>\n",
       "      <td>Silver</td>\n",
       "      <td>0.70</td>\n",
       "      <td>1.0</td>\n",
       "      <td>-0.95</td>\n",
       "      <td>2.0</td>\n",
       "    </tr>\n",
       "    <tr>\n",
       "      <th>1</th>\n",
       "      <td>2</td>\n",
       "      <td>Laptop</td>\n",
       "      <td>529.0</td>\n",
       "      <td>Asus</td>\n",
       "      <td>Black</td>\n",
       "      <td>0.65</td>\n",
       "      <td>2.5</td>\n",
       "      <td>0.25</td>\n",
       "      <td>2.5</td>\n",
       "    </tr>\n",
       "    <tr>\n",
       "      <th>2</th>\n",
       "      <td>3</td>\n",
       "      <td>Laptop</td>\n",
       "      <td>599.0</td>\n",
       "      <td>HP</td>\n",
       "      <td>Silver</td>\n",
       "      <td>0.50</td>\n",
       "      <td>4.0</td>\n",
       "      <td>0.59</td>\n",
       "      <td>4.0</td>\n",
       "    </tr>\n",
       "    <tr>\n",
       "      <th>3</th>\n",
       "      <td>4</td>\n",
       "      <td>DSLR Camera</td>\n",
       "      <td>549.0</td>\n",
       "      <td>Canon</td>\n",
       "      <td>Black</td>\n",
       "      <td>0.75</td>\n",
       "      <td>5.0</td>\n",
       "      <td>0.70</td>\n",
       "      <td>4.0</td>\n",
       "    </tr>\n",
       "  </tbody>\n",
       "</table>\n",
       "</div>"
      ],
      "text/plain": [
       "   PID     Category  Price  Brand   Color  Quality  ReviewID  Senti  Rtng\n",
       "0    1       Laptop  999.0   Vaio  Silver     0.70       1.0  -0.95   2.0\n",
       "1    2       Laptop  529.0   Asus   Black     0.65       2.5   0.25   2.5\n",
       "2    3       Laptop  599.0     HP  Silver     0.50       4.0   0.59   4.0\n",
       "3    4  DSLR Camera  549.0  Canon   Black     0.75       5.0   0.70   4.0"
      ]
     },
     "execution_count": 40,
     "metadata": {},
     "output_type": "execute_result"
    }
   ],
   "source": [
    "df_rel.groupby(['PID', 'Category', 'Price', 'Brand', 'Color']).mean().rename(\n",
    "    columns={\"Sentiment\": \"Senti\", \"Rating\": \"Rtng\"}).reset_index()"
   ]
  },
  {
   "cell_type": "code",
   "execution_count": 41,
   "id": "84fea6f0",
   "metadata": {},
   "outputs": [
    {
     "data": {
      "text/html": [
       "<div>\n",
       "<style scoped>\n",
       "    .dataframe tbody tr th:only-of-type {\n",
       "        vertical-align: middle;\n",
       "    }\n",
       "\n",
       "    .dataframe tbody tr th {\n",
       "        vertical-align: top;\n",
       "    }\n",
       "\n",
       "    .dataframe thead th {\n",
       "        text-align: right;\n",
       "    }\n",
       "</style>\n",
       "<table border=\"1\" class=\"dataframe\">\n",
       "  <thead>\n",
       "    <tr style=\"text-align: right;\">\n",
       "      <th></th>\n",
       "      <th>PID</th>\n",
       "      <th>Category</th>\n",
       "      <th>Price</th>\n",
       "      <th>Brand</th>\n",
       "      <th>Color</th>\n",
       "      <th>Quality</th>\n",
       "      <th>Senti</th>\n",
       "      <th>Rtng</th>\n",
       "    </tr>\n",
       "  </thead>\n",
       "  <tbody>\n",
       "    <tr>\n",
       "      <th>0</th>\n",
       "      <td>1</td>\n",
       "      <td>Laptop</td>\n",
       "      <td>999.0</td>\n",
       "      <td>Vaio</td>\n",
       "      <td>Silver</td>\n",
       "      <td>0.70</td>\n",
       "      <td>-0.95</td>\n",
       "      <td>2.0</td>\n",
       "    </tr>\n",
       "    <tr>\n",
       "      <th>1</th>\n",
       "      <td>2</td>\n",
       "      <td>Laptop</td>\n",
       "      <td>529.0</td>\n",
       "      <td>Asus</td>\n",
       "      <td>Black</td>\n",
       "      <td>0.65</td>\n",
       "      <td>0.25</td>\n",
       "      <td>2.5</td>\n",
       "    </tr>\n",
       "    <tr>\n",
       "      <th>2</th>\n",
       "      <td>3</td>\n",
       "      <td>Laptop</td>\n",
       "      <td>599.0</td>\n",
       "      <td>HP</td>\n",
       "      <td>Silver</td>\n",
       "      <td>0.50</td>\n",
       "      <td>0.59</td>\n",
       "      <td>4.0</td>\n",
       "    </tr>\n",
       "    <tr>\n",
       "      <th>3</th>\n",
       "      <td>4</td>\n",
       "      <td>DSLR Camera</td>\n",
       "      <td>549.0</td>\n",
       "      <td>Canon</td>\n",
       "      <td>Black</td>\n",
       "      <td>0.75</td>\n",
       "      <td>0.70</td>\n",
       "      <td>4.0</td>\n",
       "    </tr>\n",
       "  </tbody>\n",
       "</table>\n",
       "</div>"
      ],
      "text/plain": [
       "   PID     Category  Price  Brand   Color  Quality  Senti  Rtng\n",
       "0    1       Laptop  999.0   Vaio  Silver     0.70  -0.95   2.0\n",
       "1    2       Laptop  529.0   Asus   Black     0.65   0.25   2.5\n",
       "2    3       Laptop  599.0     HP  Silver     0.50   0.59   4.0\n",
       "3    4  DSLR Camera  549.0  Canon   Black     0.75   0.70   4.0"
      ]
     },
     "execution_count": 41,
     "metadata": {},
     "output_type": "execute_result"
    }
   ],
   "source": [
    "rv = df_rel.groupby(['PID', 'Category', 'Price', 'Brand', 'Color']).mean().rename(\n",
    "    columns={\"Sentiment\": \"Senti\", \"Rating\": \"Rtng\"}).reset_index()\n",
    "rv.drop(labels=['ReviewID'], axis=1)"
   ]
  },
  {
   "cell_type": "code",
   "execution_count": 42,
   "id": "c982121a",
   "metadata": {},
   "outputs": [],
   "source": [
    "mystr = rv.to_html()\n",
    "with open('rel_view.html', 'w') as f:\n",
    "    f.write(mystr)"
   ]
  },
  {
   "cell_type": "code",
   "execution_count": null,
   "id": "0cf718fc",
   "metadata": {},
   "outputs": [],
   "source": []
  },
  {
   "cell_type": "code",
   "execution_count": 6,
   "id": "b727a0e6",
   "metadata": {
    "scrolled": true
   },
   "outputs": [
    {
     "data": {
      "text/html": [
       "<div>\n",
       "<style scoped>\n",
       "    .dataframe tbody tr th:only-of-type {\n",
       "        vertical-align: middle;\n",
       "    }\n",
       "\n",
       "    .dataframe tbody tr th {\n",
       "        vertical-align: top;\n",
       "    }\n",
       "\n",
       "    .dataframe thead th {\n",
       "        text-align: right;\n",
       "    }\n",
       "</style>\n",
       "<table border=\"1\" class=\"dataframe\">\n",
       "  <thead>\n",
       "    <tr style=\"text-align: right;\">\n",
       "      <th></th>\n",
       "      <th>Tuple ID</th>\n",
       "      <th>Rtng</th>\n",
       "      <th>Type</th>\n",
       "      <th>Category</th>\n",
       "    </tr>\n",
       "  </thead>\n",
       "  <tbody>\n",
       "    <tr>\n",
       "      <th>0</th>\n",
       "      <td>t1</td>\n",
       "      <td>5.0</td>\n",
       "      <td>PRE</td>\n",
       "      <td>Tablet</td>\n",
       "    </tr>\n",
       "    <tr>\n",
       "      <th>1</th>\n",
       "      <td>t1</td>\n",
       "      <td>4.5</td>\n",
       "      <td>POST</td>\n",
       "      <td>Tablet</td>\n",
       "    </tr>\n",
       "    <tr>\n",
       "      <th>2</th>\n",
       "      <td>t1</td>\n",
       "      <td>4.0</td>\n",
       "      <td>PRE</td>\n",
       "      <td>Tablet</td>\n",
       "    </tr>\n",
       "    <tr>\n",
       "      <th>3</th>\n",
       "      <td>t1</td>\n",
       "      <td>3.8</td>\n",
       "      <td>POST</td>\n",
       "      <td>Tablet</td>\n",
       "    </tr>\n",
       "    <tr>\n",
       "      <th>4</th>\n",
       "      <td>t1</td>\n",
       "      <td>4.9</td>\n",
       "      <td>PRE</td>\n",
       "      <td>Headphone</td>\n",
       "    </tr>\n",
       "    <tr>\n",
       "      <th>5</th>\n",
       "      <td>t1</td>\n",
       "      <td>5.0</td>\n",
       "      <td>POST</td>\n",
       "      <td>Headphone</td>\n",
       "    </tr>\n",
       "    <tr>\n",
       "      <th>6</th>\n",
       "      <td>t1</td>\n",
       "      <td>5.0</td>\n",
       "      <td>PRE</td>\n",
       "      <td>Headphone</td>\n",
       "    </tr>\n",
       "    <tr>\n",
       "      <th>7</th>\n",
       "      <td>t1</td>\n",
       "      <td>3.0</td>\n",
       "      <td>POST</td>\n",
       "      <td>Headphone</td>\n",
       "    </tr>\n",
       "    <tr>\n",
       "      <th>8</th>\n",
       "      <td>t1</td>\n",
       "      <td>4.0</td>\n",
       "      <td>PRE</td>\n",
       "      <td>Laptop</td>\n",
       "    </tr>\n",
       "    <tr>\n",
       "      <th>9</th>\n",
       "      <td>t1</td>\n",
       "      <td>4.6</td>\n",
       "      <td>POST</td>\n",
       "      <td>Laptop</td>\n",
       "    </tr>\n",
       "    <tr>\n",
       "      <th>10</th>\n",
       "      <td>t1</td>\n",
       "      <td>2.0</td>\n",
       "      <td>PRE</td>\n",
       "      <td>Laptop</td>\n",
       "    </tr>\n",
       "    <tr>\n",
       "      <th>11</th>\n",
       "      <td>t1</td>\n",
       "      <td>3.0</td>\n",
       "      <td>POST</td>\n",
       "      <td>Laptop</td>\n",
       "    </tr>\n",
       "    <tr>\n",
       "      <th>12</th>\n",
       "      <td>t1</td>\n",
       "      <td>4.8</td>\n",
       "      <td>PRE</td>\n",
       "      <td>Phone</td>\n",
       "    </tr>\n",
       "    <tr>\n",
       "      <th>13</th>\n",
       "      <td>t1</td>\n",
       "      <td>4.0</td>\n",
       "      <td>POST</td>\n",
       "      <td>Phone</td>\n",
       "    </tr>\n",
       "  </tbody>\n",
       "</table>\n",
       "</div>"
      ],
      "text/plain": [
       "   Tuple ID  Rtng  Type   Category\n",
       "0        t1   5.0   PRE     Tablet\n",
       "1        t1   4.5  POST     Tablet\n",
       "2        t1   4.0   PRE     Tablet\n",
       "3        t1   3.8  POST     Tablet\n",
       "4        t1   4.9   PRE  Headphone\n",
       "5        t1   5.0  POST  Headphone\n",
       "6        t1   5.0   PRE  Headphone\n",
       "7        t1   3.0  POST  Headphone\n",
       "8        t1   4.0   PRE     Laptop\n",
       "9        t1   4.6  POST     Laptop\n",
       "10       t1   2.0   PRE     Laptop\n",
       "11       t1   3.0  POST     Laptop\n",
       "12       t1   4.8   PRE      Phone\n",
       "13       t1   4.0  POST      Phone"
      ]
     },
     "execution_count": 6,
     "metadata": {},
     "output_type": "execute_result"
    }
   ],
   "source": [
    "df_plot1 = pd.read_csv(PATH_DATA + 'amazon3.csv')\n",
    "df_plot1"
   ]
  },
  {
   "cell_type": "code",
   "execution_count": 14,
   "id": "ace7937b",
   "metadata": {},
   "outputs": [],
   "source": [
    "sns.set_theme(style=\"darkgrid\")\n",
    "sns.set(font_scale=1.5)"
   ]
  },
  {
   "cell_type": "code",
   "execution_count": 11,
   "id": "283b04f5",
   "metadata": {},
   "outputs": [
    {
     "data": {
      "image/png": "[encoded data removed]",
      "text/plain": [
       "<Figure size 288x288 with 1 Axes>"
      ]
     },
     "metadata": {
      "needs_background": "light"
     },
     "output_type": "display_data"
    }
   ],
   "source": [
    "plt.figure(figsize=(4,4))\n",
    "ax = sns.barplot(x=\"Type\", y=\"Rtng\", palette='Set2',\n",
    "                 data=df_plot1,\n",
    "                 errwidth=0).set(title='AVG(Rtng) change on Update')\n",
    "# ax.set(xlabel='AVG(Rtng)', ylabel='Type')\n",
    "plt.ylabel('AVG(Rtng)')\n",
    "plt.xlabel(\"Type\")\n",
    "out_filename = 'bar_graph1.jpg'\n",
    "plt.tight_layout()\n",
    "#plt.savefig(out_filename, dpi=500)\n",
    "plt.draw()"
   ]
  },
  {
   "cell_type": "code",
   "execution_count": 16,
   "id": "b276367a",
   "metadata": {},
   "outputs": [
    {
     "data": {
      "text/html": [
       "<div>\n",
       "<style scoped>\n",
       "    .dataframe tbody tr th:only-of-type {\n",
       "        vertical-align: middle;\n",
       "    }\n",
       "\n",
       "    .dataframe tbody tr th {\n",
       "        vertical-align: top;\n",
       "    }\n",
       "\n",
       "    .dataframe thead th {\n",
       "        text-align: right;\n",
       "    }\n",
       "</style>\n",
       "<table border=\"1\" class=\"dataframe\">\n",
       "  <thead>\n",
       "    <tr style=\"text-align: right;\">\n",
       "      <th></th>\n",
       "      <th>Tuple ID</th>\n",
       "      <th>Rtng</th>\n",
       "      <th>Type</th>\n",
       "      <th>Category</th>\n",
       "    </tr>\n",
       "  </thead>\n",
       "  <tbody>\n",
       "    <tr>\n",
       "      <th>0</th>\n",
       "      <td>t1</td>\n",
       "      <td>5.0</td>\n",
       "      <td>PRE</td>\n",
       "      <td>Tablet</td>\n",
       "    </tr>\n",
       "    <tr>\n",
       "      <th>1</th>\n",
       "      <td>t1</td>\n",
       "      <td>4.5</td>\n",
       "      <td>POST</td>\n",
       "      <td>Tablet</td>\n",
       "    </tr>\n",
       "    <tr>\n",
       "      <th>2</th>\n",
       "      <td>t1</td>\n",
       "      <td>4.0</td>\n",
       "      <td>PRE</td>\n",
       "      <td>Tablet</td>\n",
       "    </tr>\n",
       "    <tr>\n",
       "      <th>3</th>\n",
       "      <td>t1</td>\n",
       "      <td>3.8</td>\n",
       "      <td>POST</td>\n",
       "      <td>Tablet</td>\n",
       "    </tr>\n",
       "    <tr>\n",
       "      <th>4</th>\n",
       "      <td>t1</td>\n",
       "      <td>4.9</td>\n",
       "      <td>PRE</td>\n",
       "      <td>Headphone</td>\n",
       "    </tr>\n",
       "    <tr>\n",
       "      <th>5</th>\n",
       "      <td>t1</td>\n",
       "      <td>5.0</td>\n",
       "      <td>POST</td>\n",
       "      <td>Headphone</td>\n",
       "    </tr>\n",
       "    <tr>\n",
       "      <th>6</th>\n",
       "      <td>t1</td>\n",
       "      <td>5.0</td>\n",
       "      <td>PRE</td>\n",
       "      <td>Headphone</td>\n",
       "    </tr>\n",
       "    <tr>\n",
       "      <th>7</th>\n",
       "      <td>t1</td>\n",
       "      <td>3.0</td>\n",
       "      <td>POST</td>\n",
       "      <td>Headphone</td>\n",
       "    </tr>\n",
       "    <tr>\n",
       "      <th>8</th>\n",
       "      <td>t1</td>\n",
       "      <td>4.0</td>\n",
       "      <td>PRE</td>\n",
       "      <td>Laptop</td>\n",
       "    </tr>\n",
       "    <tr>\n",
       "      <th>9</th>\n",
       "      <td>t1</td>\n",
       "      <td>4.6</td>\n",
       "      <td>POST</td>\n",
       "      <td>Laptop</td>\n",
       "    </tr>\n",
       "    <tr>\n",
       "      <th>10</th>\n",
       "      <td>t1</td>\n",
       "      <td>2.0</td>\n",
       "      <td>PRE</td>\n",
       "      <td>Laptop</td>\n",
       "    </tr>\n",
       "    <tr>\n",
       "      <th>11</th>\n",
       "      <td>t1</td>\n",
       "      <td>3.0</td>\n",
       "      <td>POST</td>\n",
       "      <td>Laptop</td>\n",
       "    </tr>\n",
       "    <tr>\n",
       "      <th>12</th>\n",
       "      <td>t1</td>\n",
       "      <td>4.8</td>\n",
       "      <td>PRE</td>\n",
       "      <td>Phone</td>\n",
       "    </tr>\n",
       "    <tr>\n",
       "      <th>13</th>\n",
       "      <td>t1</td>\n",
       "      <td>4.0</td>\n",
       "      <td>POST</td>\n",
       "      <td>Phone</td>\n",
       "    </tr>\n",
       "  </tbody>\n",
       "</table>\n",
       "</div>"
      ],
      "text/plain": [
       "   Tuple ID  Rtng  Type   Category\n",
       "0        t1   5.0   PRE     Tablet\n",
       "1        t1   4.5  POST     Tablet\n",
       "2        t1   4.0   PRE     Tablet\n",
       "3        t1   3.8  POST     Tablet\n",
       "4        t1   4.9   PRE  Headphone\n",
       "5        t1   5.0  POST  Headphone\n",
       "6        t1   5.0   PRE  Headphone\n",
       "7        t1   3.0  POST  Headphone\n",
       "8        t1   4.0   PRE     Laptop\n",
       "9        t1   4.6  POST     Laptop\n",
       "10       t1   2.0   PRE     Laptop\n",
       "11       t1   3.0  POST     Laptop\n",
       "12       t1   4.8   PRE      Phone\n",
       "13       t1   4.0  POST      Phone"
      ]
     },
     "execution_count": 16,
     "metadata": {},
     "output_type": "execute_result"
    }
   ],
   "source": [
    "df_plot1"
   ]
  },
  {
   "cell_type": "code",
   "execution_count": 17,
   "id": "78903a8d",
   "metadata": {},
   "outputs": [
    {
     "data": {
      "image/png": "[encoded data removed]",
      "text/plain": [
       "<Figure size 576x288 with 1 Axes>"
      ]
     },
     "metadata": {},
     "output_type": "display_data"
    }
   ],
   "source": [
    "plt.figure(figsize=(8,4))\n",
    "ax = sns.barplot(x=\"Rtng\", y=\"Category\", hue='Type',\n",
    "                 data=df_plot1[df_plot1['Category'].isin(['Laptop', 'Phone', 'Tablet', 'Headphone'])],\n",
    "                 palette='Set2',\n",
    "                 errwidth=0).set(title='AVG(Rtng) by Category')\n",
    "plt.xlabel('AVG(Rtng)')\n",
    "# plt.xlabel(\"Type\")\n",
    "out_filename = 'bar_graph2.jpg'\n",
    "plt.tight_layout()\n",
    "plt.savefig(out_filename, dpi=500)\n",
    "plt.draw()"
   ]
  },
  {
   "cell_type": "code",
   "execution_count": 16,
   "id": "9e3e4c59",
   "metadata": {},
   "outputs": [
    {
     "name": "stdout",
     "output_type": "stream",
     "text": [
      "   Tuple ID  Rtng Type   Category\n",
      "0        t1   5.0  PRE     Tablet\n",
      "2        t1   4.0  PRE     Tablet\n",
      "4        t1   4.9  PRE  Headphone\n",
      "6        t1   5.0  PRE  Headphone\n",
      "8        t1   4.0  PRE     Laptop\n",
      "10       t1   2.0  PRE     Laptop\n",
      "12       t1   4.8  PRE      Phone\n"
     ]
    }
   ],
   "source": [
    "df = df_plot1[df_plot1['Type'] == 'PRE']\n",
    "print(df)"
   ]
  },
  {
   "cell_type": "code",
   "execution_count": 26,
   "id": "7a8b2fb3",
   "metadata": {},
   "outputs": [
    {
     "data": {
      "text/plain": [
       "[Text(0.5, 1.0, 'AVG(Rtng) by Category')]"
      ]
     },
     "execution_count": 26,
     "metadata": {},
     "output_type": "execute_result"
    },
    {
     "data": {
      "image/png": "[encoded data removed]",
      "text/plain": [
       "<Figure size 576x288 with 1 Axes>"
      ]
     },
     "metadata": {
      "needs_background": "light"
     },
     "output_type": "display_data"
    }
   ],
   "source": [
    "plt.figure(figsize=(8,4))\n",
    "sns.barplot(x=\"Rtng\", y=\"Category\",data=df, palette='Set2', errwidth=0).set(title='AVG(Rtng) by Category')"
   ]
  },
  {
   "cell_type": "code",
   "execution_count": 27,
   "id": "a0871a94",
   "metadata": {},
   "outputs": [
    {
     "data": {
      "image/png": "[encoded data removed]",
      "text/plain": [
       "<Figure size 576x288 with 1 Axes>"
      ]
     },
     "metadata": {
      "needs_background": "light"
     },
     "output_type": "display_data"
    }
   ],
   "source": [
    "#plt.plot()\n",
    "plt.figure(figsize=(8,4))\n",
    "ax = sns.barplot(x=\"Rtng\", y=\"Category\",\n",
    "                 data=df,\n",
    "                 palette='Set2', \n",
    "                 errwidth=0,)\n",
    "                 #.set(title='AVG(Rtng) by Category')\n",
    "                \n",
    "fig = ax.get_figure()\n",
    "fig.tight_layout()\n",
    "fig.savefig(PATH_DATA + '/agg_query_bar_graph.jpg', dpi=500)"
   ]
  },
  {
   "cell_type": "code",
   "execution_count": null,
   "id": "dbda651d",
   "metadata": {
    "scrolled": true
   },
   "outputs": [
    {
     "data": {
      "text/html": [
       "<div>\n",
       "<style scoped>\n",
       "    .dataframe tbody tr th:only-of-type {\n",
       "        vertical-align: middle;\n",
       "    }\n",
       "\n",
       "    .dataframe tbody tr th {\n",
       "        vertical-align: top;\n",
       "    }\n",
       "\n",
       "    .dataframe thead th {\n",
       "        text-align: right;\n",
       "    }\n",
       "</style>\n",
       "<table border=\"1\" class=\"dataframe\">\n",
       "  <thead>\n",
       "    <tr style=\"text-align: right;\">\n",
       "      <th></th>\n",
       "      <th>Price</th>\n",
       "      <th>AVG(Rtng)</th>\n",
       "    </tr>\n",
       "  </thead>\n",
       "  <tbody>\n",
       "    <tr>\n",
       "      <th>0</th>\n",
       "      <td>0.1</td>\n",
       "      <td>4.961294</td>\n",
       "    </tr>\n",
       "    <tr>\n",
       "      <th>1</th>\n",
       "      <td>0.2</td>\n",
       "      <td>4.988548</td>\n",
       "    </tr>\n",
       "    <tr>\n",
       "      <th>2</th>\n",
       "      <td>0.3</td>\n",
       "      <td>4.897345</td>\n",
       "    </tr>\n",
       "    <tr>\n",
       "      <th>3</th>\n",
       "      <td>0.4</td>\n",
       "      <td>4.754426</td>\n",
       "    </tr>\n",
       "    <tr>\n",
       "      <th>4</th>\n",
       "      <td>0.5</td>\n",
       "      <td>4.704388</td>\n",
       "    </tr>\n",
       "    <tr>\n",
       "      <th>5</th>\n",
       "      <td>0.6</td>\n",
       "      <td>4.551774</td>\n",
       "    </tr>\n",
       "    <tr>\n",
       "      <th>6</th>\n",
       "      <td>0.7</td>\n",
       "      <td>4.473944</td>\n",
       "    </tr>\n",
       "    <tr>\n",
       "      <th>7</th>\n",
       "      <td>0.8</td>\n",
       "      <td>4.364749</td>\n",
       "    </tr>\n",
       "    <tr>\n",
       "      <th>8</th>\n",
       "      <td>0.9</td>\n",
       "      <td>4.387848</td>\n",
       "    </tr>\n",
       "    <tr>\n",
       "      <th>9</th>\n",
       "      <td>1.0</td>\n",
       "      <td>4.038024</td>\n",
       "    </tr>\n",
       "    <tr>\n",
       "      <th>10</th>\n",
       "      <td>1.0</td>\n",
       "      <td>3.925082</td>\n",
       "    </tr>\n",
       "    <tr>\n",
       "      <th>11</th>\n",
       "      <td>2.0</td>\n",
       "      <td>3.744215</td>\n",
       "    </tr>\n",
       "    <tr>\n",
       "      <th>12</th>\n",
       "      <td>3.0</td>\n",
       "      <td>3.351514</td>\n",
       "    </tr>\n",
       "    <tr>\n",
       "      <th>13</th>\n",
       "      <td>4.0</td>\n",
       "      <td>3.203617</td>\n",
       "    </tr>\n",
       "    <tr>\n",
       "      <th>14</th>\n",
       "      <td>5.0</td>\n",
       "      <td>2.827076</td>\n",
       "    </tr>\n",
       "    <tr>\n",
       "      <th>15</th>\n",
       "      <td>6.0</td>\n",
       "      <td>2.729261</td>\n",
       "    </tr>\n",
       "    <tr>\n",
       "      <th>16</th>\n",
       "      <td>7.0</td>\n",
       "      <td>2.447120</td>\n",
       "    </tr>\n",
       "    <tr>\n",
       "      <th>17</th>\n",
       "      <td>8.0</td>\n",
       "      <td>2.210680</td>\n",
       "    </tr>\n",
       "    <tr>\n",
       "      <th>18</th>\n",
       "      <td>9.0</td>\n",
       "      <td>2.264979</td>\n",
       "    </tr>\n",
       "    <tr>\n",
       "      <th>19</th>\n",
       "      <td>10.0</td>\n",
       "      <td>1.980807</td>\n",
       "    </tr>\n",
       "  </tbody>\n",
       "</table>\n",
       "</div>"
      ],
      "text/plain": [
       "    Price  AVG(Rtng)\n",
       "0     0.1   4.961294\n",
       "1     0.2   4.988548\n",
       "2     0.3   4.897345\n",
       "3     0.4   4.754426\n",
       "4     0.5   4.704388\n",
       "5     0.6   4.551774\n",
       "6     0.7   4.473944\n",
       "7     0.8   4.364749\n",
       "8     0.9   4.387848\n",
       "9     1.0   4.038024\n",
       "10    1.0   3.925082\n",
       "11    2.0   3.744215\n",
       "12    3.0   3.351514\n",
       "13    4.0   3.203617\n",
       "14    5.0   2.827076\n",
       "15    6.0   2.729261\n",
       "16    7.0   2.447120\n",
       "17    8.0   2.210680\n",
       "18    9.0   2.264979\n",
       "19   10.0   1.980807"
      ]
     },
     "execution_count": 18,
     "metadata": {},
     "output_type": "execute_result"
    }
   ],
   "source": [
    "d2 = {\n",
    "    'Price': np.linspace(0.1, 1, num=10).tolist() + np.linspace(1, 10, num=10).tolist(),\n",
    "    'AVG(Rtng)': list(map(lambda x: x**2, np.linspace(0.1, 1, num=10))) +\\\n",
    "                 list(map(lambda x: x**0.5, np.linspace(1, 9, num=10)))\n",
    "    \n",
    "}\n",
    "d2['AVG(Rtng)'] = np.array(d2['AVG(Rtng)']) + 0.06*np.random.randn(len(d2['Price']))\n",
    "d2['AVG(Rtng)'] = d2['AVG(Rtng)']*-1 + 5\n",
    "\n",
    "df_plot2 = pd.DataFrame(data=d2)\n",
    "df_plot2"
   ]
  },
  {
   "cell_type": "code",
   "execution_count": null,
   "id": "f4163301",
   "metadata": {},
   "outputs": [
    {
     "data": {
      "image/png": "[encoded data removed]",
      "text/plain": [
       "<Figure size 432x288 with 1 Axes>"
      ]
     },
     "metadata": {},
     "output_type": "display_data"
    }
   ],
   "source": [
    "ax = sns.lineplot(data=df_plot2, x=\"Price\", y=\"AVG(Rtng)\", palette='Set2').set(title='AVG(Rtng) on updating Price')\n",
    "out_filename = 'line_graph1.jpg'\n",
    "plt.xlabel('Price (x)')\n",
    "plt.tight_layout()\n",
    "plt.savefig(out_filename, dpi=500)\n",
    "plt.draw()"
   ]
  },
  {
   "cell_type": "code",
   "execution_count": null,
   "id": "2e75c6f0",
   "metadata": {},
   "outputs": [],
   "source": []
  },
  {
   "cell_type": "markdown",
   "id": "b253c815",
   "metadata": {},
   "source": [
    "# How to options\n",
    "\n",
    "[Price: 1.1x, Color: Red]\n",
    "\n",
    "[Price: 1.3x, Color: Silver]\n",
    "\n",
    "[Price: 200+, Color: Red]\n",
    "\n",
    "[Price: 1.5x, Color: No Change]\n",
    "\n",
    "[Price: 350+, Color: Silver]"
   ]
  },
  {
   "cell_type": "code",
   "execution_count": null,
   "id": "6b5beca4",
   "metadata": {},
   "outputs": [],
   "source": []
  },
  {
   "cell_type": "code",
   "execution_count": null,
   "id": "a6c94f0c",
   "metadata": {},
   "outputs": [],
   "source": []
  },
  {
   "cell_type": "code",
   "execution_count": null,
   "id": "c210776b",
   "metadata": {},
   "outputs": [],
   "source": []
  },
  {
   "cell_type": "code",
   "execution_count": null,
   "id": "8f07f4d3",
   "metadata": {},
   "outputs": [],
   "source": []
  },
  {
   "cell_type": "code",
   "execution_count": null,
   "id": "921078f6",
   "metadata": {},
   "outputs": [],
   "source": []
  },
  {
   "cell_type": "code",
   "execution_count": null,
   "id": "a9e93c71",
   "metadata": {},
   "outputs": [],
   "source": []
  },
  {
   "cell_type": "code",
   "execution_count": null,
   "id": "e0586e61",
   "metadata": {},
   "outputs": [],
   "source": []
  },
  {
   "cell_type": "code",
   "execution_count": null,
   "id": "4ce8f78c",
   "metadata": {},
   "outputs": [],
   "source": []
  },
  {
   "cell_type": "code",
   "execution_count": null,
   "id": "6bebb529",
   "metadata": {},
   "outputs": [],
   "source": []
  },
  {
   "cell_type": "code",
   "execution_count": null,
   "id": "561dfc37",
   "metadata": {},
   "outputs": [
    {
     "data": {
      "text/plain": [
       "'0.11.2'"
      ]
     },
     "execution_count": 20,
     "metadata": {},
     "output_type": "execute_result"
    }
   ],
   "source": [
    "sns.__version__"
   ]
  },
  {
   "cell_type": "code",
   "execution_count": null,
   "id": "b93879cf",
   "metadata": {},
   "outputs": [],
   "source": []
  },
  {
   "cell_type": "code",
   "execution_count": null,
   "id": "ddd4add2",
   "metadata": {},
   "outputs": [],
   "source": []
  },
  {
   "cell_type": "code",
   "execution_count": null,
   "id": "c331fce9",
   "metadata": {},
   "outputs": [],
   "source": []
  },
  {
   "cell_type": "code",
   "execution_count": null,
   "id": "d3c8c700",
   "metadata": {},
   "outputs": [],
   "source": [
    "# Network X graph\n",
    "\n",
    "import networkx as nx"
   ]
  },
  {
   "cell_type": "code",
   "execution_count": null,
   "id": "74141152",
   "metadata": {},
   "outputs": [],
   "source": [
    "# Declare directed graph\n",
    "G = nx.DiGraph()\n",
    "\n",
    "nodes = ['Quality[p1]', 'Brand[p1]', 'Category[p1]', 'Sentiment[p1]', 'Rating[p1]', 'Color[p1]', 'Price[p1]']\n",
    "nodes += ['Quality[p2]', 'Brand[p2]', 'Category[p2]', 'Sentiment[p2]', 'Rating[p2]', 'Color[p2]', 'Price[p2]']\n",
    "\n",
    "edges = [\n",
    "    ('Quality[p1]','Price[p1]'), ('Quality[p1]','Rating[p1]'), ('Quality[p1]','Sentiment[p1]'),\n",
    "    ('Brand[p1]','Quality[p1]'), ('Brand[p1]','Price[p1]'), ('Brand[p1]','Color[p1]'), ('Brand[p1]','Rating[p1]'), ('Brand[p1]','Sentiment[p1]'), ('Brand[p1]','Category[p1]'),\n",
    "    ('Category[p1]','Sentiment[p1]'), ('Category[p1]','Rating[p1]'),\n",
    "    ('Sentiment[p1]','Rating[p1]'),\n",
    "    ('Color[p1]','Rating[p1]'),\n",
    "    ('Price[p1]','Rating[p1]'),\n",
    "    \n",
    "    ('Quality[p2]','Price[p2]'), ('Quality[p2]','Rating[p2]'), ('Quality[p2]','Sentiment[p2]'),\n",
    "    ('Brand[p2]','Quality[p2]'), ('Brand[p2]','Price[p2]'), ('Brand[p2]','Color[p2]'), ('Brand[p2]','Rating[p2]'), ('Brand[p2]','Sentiment[p2]'), ('Brand[p2]','Category[p2]'),\n",
    "    ('Category[p2]','Sentiment[p2]'), ('Category[p2]','Rating[p2]'),\n",
    "    ('Sentiment[p2]','Rating[p2]'),\n",
    "    ('Color[p2]','Rating[p2]'),\n",
    "    ('Price[p2]','Rating[p2]'),\n",
    "    \n",
    "    ('Price[p1]','Rating[p2]'), ('Price[p2]','Rating[p1]'),\n",
    "    ('Quality[p1]','Rating[p2]'), ('Quality[p2]','Rating[p1]'),\n",
    "]\n",
    "\n",
    "# Add node or edge to networkx graph\n",
    "for n in nodes:\n",
    "    G.add_node(n)\n",
    "for e in edges:\n",
    "    source, target = e\n",
    "    G.add_edge(source, target)"
   ]
  },
  {
   "cell_type": "code",
   "execution_count": null,
   "id": "b26f5d30",
   "metadata": {},
   "outputs": [
    {
     "data": {
      "text/plain": [
       "[0.3,\n",
       " -0.15,\n",
       " 0.3,\n",
       " -0.15,\n",
       " 0.3,\n",
       " -0.15,\n",
       " 0.3,\n",
       " -0.15,\n",
       " 0.3,\n",
       " -0.15,\n",
       " 0.3,\n",
       " -0.15,\n",
       " 0.3,\n",
       " -0.15]"
      ]
     },
     "execution_count": 23,
     "metadata": {},
     "output_type": "execute_result"
    }
   ],
   "source": [
    "[0.30, -0.15]*(len(nodes)//2)"
   ]
  },
  {
   "cell_type": "code",
   "execution_count": null,
   "id": "de41d8c1",
   "metadata": {},
   "outputs": [],
   "source": []
  },
  {
   "cell_type": "code",
   "execution_count": null,
   "id": "b389d9bd",
   "metadata": {},
   "outputs": [],
   "source": []
  },
  {
   "cell_type": "code",
   "execution_count": null,
   "id": "ce175eb9",
   "metadata": {},
   "outputs": [],
   "source": [
    "q1 = nodes.index('Quality[p1]')"
   ]
  },
  {
   "cell_type": "code",
   "execution_count": null,
   "id": "f6eb9fc6",
   "metadata": {},
   "outputs": [],
   "source": [
    "q1 = nodes.index('Quality[p1]')\n",
    "q2 = nodes.index('Quality[p2]')\n",
    "r1 = nodes.index('Rating[p1]')\n",
    "r2 = nodes.index('Rating[p2]')\n",
    "s1 = nodes.index('Sentiment[p1]')\n",
    "s2 = nodes.index('Sentiment[p2]')"
   ]
  },
  {
   "cell_type": "code",
   "execution_count": null,
   "id": "db80349a",
   "metadata": {},
   "outputs": [
    {
     "data": {
      "image/png": "[encoded data removed]",
      "text/plain": [
       "<Figure size 432x288 with 1 Axes>"
      ]
     },
     "metadata": {},
     "output_type": "display_data"
    }
   ],
   "source": [
    "pos = nx.layout.shell_layout(G)\n",
    "for k,v in pos.items():\n",
    "    pos[k] = v * [1,1]\n",
    "\n",
    "pos_lab = {}\n",
    "# lab_off = [0.20, -0.15]*(len(nodes)//2)\n",
    "lab_off_vert = [-0.13]*(len(nodes)//2) + [0.13]*(len(nodes)//2)\n",
    "lab_off_hor = [0]*(len(nodes))\n",
    "lab_off_hor[q1] = 0.1\n",
    "lab_off_hor[q2] = -0.1\n",
    "lab_off_hor[r1] = 0.1\n",
    "lab_off_hor[r2] = -0.1\n",
    "lab_off_hor[s1] = -0.1\n",
    "lab_off_hor[s2] = 0.1\n",
    "\n",
    "\n",
    "\n",
    "for i,t in enumerate(pos.items()):\n",
    "    k,v = t\n",
    "    pos_lab[k] = v + [lab_off_hor[i],lab_off_vert[i]]\n",
    "\n",
    "\n",
    "\n",
    "options = {\"edgecolors\": \"tab:gray\", \"node_size\": 400, \"alpha\": 0.9}\n",
    "\n",
    "nx.draw_networkx_nodes(\n",
    "    G, pos,\n",
    "    nodelist=nodes[:len(nodes)//2],\n",
    "    node_color=\"tab:red\", **options)\n",
    "\n",
    "nx.draw_networkx_nodes(\n",
    "    G, pos,\n",
    "    nodelist=nodes[len(nodes)//2:],\n",
    "    node_color=\"tab:blue\", **options)\n",
    "\n",
    "nx.draw_networkx_edges(\n",
    "    G,\n",
    "    pos,\n",
    "    edgelist=edges[:-4],\n",
    "    style='solid',\n",
    "    width=1.5,\n",
    "    alpha=0.75,\n",
    "    edge_color=\"tab:gray\",\n",
    "    arrowstyle=\"-|>\",\n",
    "    arrowsize=12)\n",
    "\n",
    "nx.draw_networkx_edges(\n",
    "    G,\n",
    "    pos,\n",
    "    edgelist=edges[-4:],\n",
    "    style='dashed',\n",
    "    width=1.5,\n",
    "    alpha=0.9,\n",
    "    edge_color=\"tab:gray\",\n",
    "    arrowstyle=\"-|>\",\n",
    "    arrowsize=15)\n",
    "\n",
    "labels = nx.draw_networkx_labels(\n",
    "    G, pos_lab,\n",
    "    font_size=18)\n",
    "\n",
    "# fig = plt.figure(figsize=(2,2))\n",
    "out_filename = PATH_DATA + 'causal_graph2.jpg'\n",
    "plt.axis('off')\n",
    "plt.tight_layout(pad=0)\n",
    "plt.savefig(out_filename, dpi=500)\n",
    "plt.draw()"
   ]
  },
  {
   "cell_type": "code",
   "execution_count": null,
   "id": "e5433d22",
   "metadata": {},
   "outputs": [],
   "source": []
  },
  {
   "cell_type": "code",
   "execution_count": null,
   "id": "d69150d3",
   "metadata": {},
   "outputs": [],
   "source": []
  },
  {
   "cell_type": "code",
   "execution_count": null,
   "id": "13dad08f",
   "metadata": {},
   "outputs": [],
   "source": []
  },
  {
   "cell_type": "code",
   "execution_count": null,
   "id": "d357eddb",
   "metadata": {},
   "outputs": [],
   "source": []
  },
  {
   "cell_type": "code",
   "execution_count": null,
   "id": "26e1437b",
   "metadata": {},
   "outputs": [],
   "source": []
  },
  {
   "cell_type": "code",
   "execution_count": null,
   "id": "50680cc8",
   "metadata": {},
   "outputs": [],
   "source": []
  },
  {
   "cell_type": "code",
   "execution_count": null,
   "id": "c595dfb8",
   "metadata": {},
   "outputs": [],
   "source": []
  },
  {
   "cell_type": "code",
   "execution_count": null,
   "id": "9a4614f1",
   "metadata": {},
   "outputs": [],
   "source": []
  },
  {
   "cell_type": "code",
   "execution_count": null,
   "id": "46c91ef0",
   "metadata": {},
   "outputs": [],
   "source": []
  },
  {
   "cell_type": "code",
   "execution_count": null,
   "id": "64afdaa7",
   "metadata": {},
   "outputs": [],
   "source": []
  },
  {
   "cell_type": "code",
   "execution_count": null,
   "id": "0e57bdc3",
   "metadata": {},
   "outputs": [],
   "source": []
  },
  {
   "cell_type": "code",
   "execution_count": null,
   "id": "c96cdf7f",
   "metadata": {},
   "outputs": [],
   "source": []
  },
  {
   "cell_type": "code",
   "execution_count": null,
   "id": "028edf90",
   "metadata": {},
   "outputs": [],
   "source": []
  },
  {
   "cell_type": "code",
   "execution_count": null,
   "id": "c9b57206",
   "metadata": {},
   "outputs": [],
   "source": []
  },
  {
   "cell_type": "code",
   "execution_count": null,
   "id": "c1bc1e74",
   "metadata": {},
   "outputs": [],
   "source": []
  },
  {
   "cell_type": "code",
   "execution_count": null,
   "id": "9f341ca6",
   "metadata": {},
   "outputs": [],
   "source": []
  },
  {
   "cell_type": "code",
   "execution_count": null,
   "id": "72f7a852",
   "metadata": {},
   "outputs": [],
   "source": []
  },
  {
   "cell_type": "code",
   "execution_count": null,
   "id": "5919ba08",
   "metadata": {},
   "outputs": [],
   "source": []
  },
  {
   "cell_type": "code",
   "execution_count": null,
   "id": "9b691b1f",
   "metadata": {},
   "outputs": [],
   "source": []
  },
  {
   "cell_type": "code",
   "execution_count": null,
   "id": "09ada917",
   "metadata": {},
   "outputs": [],
   "source": []
  },
  {
   "cell_type": "code",
   "execution_count": null,
   "id": "e9e9ccda",
   "metadata": {},
   "outputs": [],
   "source": []
  },
  {
   "cell_type": "code",
   "execution_count": null,
   "id": "f30b57b5",
   "metadata": {},
   "outputs": [],
   "source": []
  },
  {
   "cell_type": "code",
   "execution_count": null,
   "id": "a3912a45",
   "metadata": {},
   "outputs": [],
   "source": []
  },
  {
   "cell_type": "code",
   "execution_count": null,
   "id": "0655dfbc",
   "metadata": {},
   "outputs": [],
   "source": []
  },
  {
   "cell_type": "code",
   "execution_count": null,
   "id": "a9e2c167",
   "metadata": {},
   "outputs": [],
   "source": []
  },
  {
   "cell_type": "code",
   "execution_count": null,
   "id": "2ba6228c",
   "metadata": {},
   "outputs": [],
   "source": []
  },
  {
   "cell_type": "code",
   "execution_count": null,
   "id": "e0311ed8",
   "metadata": {},
   "outputs": [],
   "source": []
  },
  {
   "cell_type": "code",
   "execution_count": null,
   "id": "904181e9",
   "metadata": {},
   "outputs": [],
   "source": []
  },
  {
   "cell_type": "code",
   "execution_count": null,
   "id": "20648aa3",
   "metadata": {},
   "outputs": [],
   "source": []
  },
  {
   "cell_type": "code",
   "execution_count": null,
   "id": "b7f114e6",
   "metadata": {},
   "outputs": [],
   "source": []
  },
  {
   "cell_type": "code",
   "execution_count": null,
   "id": "b3599ecf",
   "metadata": {},
   "outputs": [],
   "source": []
  },
  {
   "cell_type": "code",
   "execution_count": null,
   "id": "5d796a5e",
   "metadata": {},
   "outputs": [],
   "source": []
  },
  {
   "cell_type": "code",
   "execution_count": null,
   "id": "160e6070",
   "metadata": {},
   "outputs": [],
   "source": []
  },
  {
   "cell_type": "code",
   "execution_count": null,
   "id": "70c3f6f0",
   "metadata": {},
   "outputs": [],
   "source": []
  },
  {
   "cell_type": "code",
   "execution_count": null,
   "id": "870da0c7",
   "metadata": {},
   "outputs": [],
   "source": []
  },
  {
   "cell_type": "code",
   "execution_count": null,
   "id": "e4be36ff",
   "metadata": {},
   "outputs": [],
   "source": []
  },
  {
   "cell_type": "code",
   "execution_count": null,
   "id": "fc6505d0",
   "metadata": {},
   "outputs": [],
   "source": []
  },
  {
   "cell_type": "code",
   "execution_count": null,
   "id": "b36244c6",
   "metadata": {},
   "outputs": [],
   "source": []
  },
  {
   "cell_type": "code",
   "execution_count": null,
   "id": "29ebb4e8",
   "metadata": {},
   "outputs": [],
   "source": []
  },
  {
   "cell_type": "code",
   "execution_count": null,
   "id": "86551161",
   "metadata": {},
   "outputs": [],
   "source": []
  },
  {
   "cell_type": "code",
   "execution_count": null,
   "id": "13e68fc8",
   "metadata": {},
   "outputs": [
    {
     "ename": "NameError",
     "evalue": "name 'xt' is not defined",
     "output_type": "error",
     "traceback": [
      "\u001b[0;31m---------------------------------------------------------------------------\u001b[0m",
      "\u001b[0;31mNameError\u001b[0m                                 Traceback (most recent call last)",
      "\u001b[0;32m/var/folders/k0/9g9nb34s4693d5d9ls0mhzk40000gn/T/ipykernel_9492/1912375406.py\u001b[0m in \u001b[0;36m<module>\u001b[0;34m\u001b[0m\n\u001b[0;32m----> 1\u001b[0;31m \u001b[0mxt\u001b[0m\u001b[0;34m\u001b[0m\u001b[0;34m\u001b[0m\u001b[0m\n\u001b[0m",
      "\u001b[0;31mNameError\u001b[0m: name 'xt' is not defined"
     ]
    }
   ],
   "source": [
    "xt"
   ]
  },
  {
   "cell_type": "code",
   "execution_count": null,
   "id": "21c67b2e",
   "metadata": {},
   "outputs": [],
   "source": []
  },
  {
   "cell_type": "code",
   "execution_count": null,
   "id": "877d8614",
   "metadata": {},
   "outputs": [],
   "source": []
  },
  {
   "cell_type": "code",
   "execution_count": null,
   "id": "9a779497",
   "metadata": {},
   "outputs": [],
   "source": []
  },
  {
   "cell_type": "code",
   "execution_count": null,
   "id": "36c9a183",
   "metadata": {},
   "outputs": [],
   "source": []
  },
  {
   "cell_type": "code",
   "execution_count": null,
   "id": "28dd5b05",
   "metadata": {},
   "outputs": [],
   "source": []
  },
  {
   "cell_type": "code",
   "execution_count": null,
   "id": "1e6e66ca",
   "metadata": {},
   "outputs": [],
   "source": []
  },
  {
   "cell_type": "code",
   "execution_count": null,
   "id": "c821910f",
   "metadata": {},
   "outputs": [],
   "source": []
  },
  {
   "cell_type": "code",
   "execution_count": null,
   "id": "89dd52d5",
   "metadata": {},
   "outputs": [],
   "source": []
  },
  {
   "cell_type": "code",
   "execution_count": null,
   "id": "3f5df0b1",
   "metadata": {},
   "outputs": [],
   "source": []
  },
  {
   "cell_type": "code",
   "execution_count": null,
   "id": "cd436ec1",
   "metadata": {},
   "outputs": [],
   "source": []
  },
  {
   "cell_type": "code",
   "execution_count": null,
   "id": "a98cefcf",
   "metadata": {},
   "outputs": [],
   "source": []
  },
  {
   "cell_type": "code",
   "execution_count": null,
   "id": "b72301a8",
   "metadata": {},
   "outputs": [],
   "source": [
    "pos"
   ]
  },
  {
   "cell_type": "code",
   "execution_count": null,
   "id": "57aec3a9",
   "metadata": {},
   "outputs": [],
   "source": [
    "pos"
   ]
  },
  {
   "cell_type": "code",
   "execution_count": null,
   "id": "5d8bd1f0",
   "metadata": {},
   "outputs": [],
   "source": []
  },
  {
   "cell_type": "code",
   "execution_count": null,
   "id": "92f7b772",
   "metadata": {},
   "outputs": [],
   "source": [
    "xx = np.array([1,1.4])"
   ]
  },
  {
   "cell_type": "code",
   "execution_count": null,
   "id": "36aff8fa",
   "metadata": {},
   "outputs": [],
   "source": [
    "xx * [1,2]"
   ]
  },
  {
   "cell_type": "code",
   "execution_count": null,
   "id": "c47d4a08",
   "metadata": {},
   "outputs": [],
   "source": []
  },
  {
   "cell_type": "code",
   "execution_count": null,
   "id": "9b5b6150",
   "metadata": {},
   "outputs": [],
   "source": []
  },
  {
   "cell_type": "code",
   "execution_count": null,
   "id": "13c64b43",
   "metadata": {},
   "outputs": [],
   "source": []
  },
  {
   "cell_type": "code",
   "execution_count": null,
   "id": "7727f7d3",
   "metadata": {},
   "outputs": [],
   "source": []
  },
  {
   "cell_type": "code",
   "execution_count": null,
   "id": "16e580f6",
   "metadata": {},
   "outputs": [],
   "source": []
  },
  {
   "cell_type": "code",
   "execution_count": null,
   "id": "861ac0cd",
   "metadata": {},
   "outputs": [],
   "source": []
  },
  {
   "cell_type": "code",
   "execution_count": null,
   "id": "705e679b",
   "metadata": {},
   "outputs": [],
   "source": []
  },
  {
   "cell_type": "code",
   "execution_count": null,
   "id": "3aef6331",
   "metadata": {},
   "outputs": [],
   "source": []
  },
  {
   "cell_type": "code",
   "execution_count": null,
   "id": "eac497c7",
   "metadata": {},
   "outputs": [],
   "source": []
  },
  {
   "cell_type": "code",
   "execution_count": null,
   "id": "40081051",
   "metadata": {},
   "outputs": [],
   "source": []
  },
  {
   "cell_type": "code",
   "execution_count": null,
   "id": "5403df28",
   "metadata": {},
   "outputs": [],
   "source": []
  },
  {
   "cell_type": "code",
   "execution_count": null,
   "id": "a03372ed",
   "metadata": {},
   "outputs": [],
   "source": []
  },
  {
   "cell_type": "code",
   "execution_count": null,
   "id": "55b13717",
   "metadata": {},
   "outputs": [],
   "source": []
  },
  {
   "cell_type": "code",
   "execution_count": null,
   "id": "129ca7eb",
   "metadata": {},
   "outputs": [],
   "source": []
  },
  {
   "cell_type": "code",
   "execution_count": null,
   "id": "fe21b204",
   "metadata": {},
   "outputs": [],
   "source": []
  },
  {
   "cell_type": "code",
   "execution_count": null,
   "id": "f2d997d1",
   "metadata": {},
   "outputs": [],
   "source": []
  },
  {
   "cell_type": "code",
   "execution_count": null,
   "id": "8408242a",
   "metadata": {},
   "outputs": [],
   "source": []
  },
  {
   "cell_type": "code",
   "execution_count": null,
   "id": "521db185",
   "metadata": {},
   "outputs": [],
   "source": []
  },
  {
   "cell_type": "code",
   "execution_count": null,
   "id": "9f5df4b4",
   "metadata": {},
   "outputs": [],
   "source": []
  },
  {
   "cell_type": "code",
   "execution_count": null,
   "id": "6e16e4e3",
   "metadata": {},
   "outputs": [],
   "source": []
  },
  {
   "cell_type": "code",
   "execution_count": null,
   "id": "430d0b88",
   "metadata": {},
   "outputs": [],
   "source": []
  },
  {
   "cell_type": "code",
   "execution_count": null,
   "id": "4730938a",
   "metadata": {},
   "outputs": [],
   "source": []
  },
  {
   "cell_type": "code",
   "execution_count": null,
   "id": "6957d7b6",
   "metadata": {},
   "outputs": [],
   "source": [
    "pos"
   ]
  },
  {
   "cell_type": "code",
   "execution_count": null,
   "id": "26ef3946",
   "metadata": {},
   "outputs": [],
   "source": [
    "pos2 = {}\n",
    "for k,v in pos.items():\n",
    "    pos2[k] = v + [0,0.1]\n",
    "pos2"
   ]
  },
  {
   "cell_type": "code",
   "execution_count": null,
   "id": "3d3d3bee",
   "metadata": {},
   "outputs": [],
   "source": [
    "xx = np.array([0,1])"
   ]
  },
  {
   "cell_type": "code",
   "execution_count": null,
   "id": "4329a601",
   "metadata": {},
   "outputs": [],
   "source": [
    "xx"
   ]
  },
  {
   "cell_type": "code",
   "execution_count": null,
   "id": "7ac1ddb7",
   "metadata": {},
   "outputs": [],
   "source": [
    "pos['Price[p2]']+[0,1]"
   ]
  },
  {
   "cell_type": "code",
   "execution_count": null,
   "id": "f34913ee",
   "metadata": {},
   "outputs": [],
   "source": []
  },
  {
   "cell_type": "code",
   "execution_count": null,
   "id": "b85b0b57",
   "metadata": {},
   "outputs": [],
   "source": []
  },
  {
   "cell_type": "code",
   "execution_count": null,
   "id": "adbc48c4",
   "metadata": {},
   "outputs": [],
   "source": []
  },
  {
   "cell_type": "code",
   "execution_count": null,
   "id": "d049252a",
   "metadata": {},
   "outputs": [],
   "source": [
    "G = nx.petersen_graph()\n",
    "G.edges"
   ]
  },
  {
   "cell_type": "code",
   "execution_count": null,
   "id": "e987918f",
   "metadata": {},
   "outputs": [],
   "source": []
  }
 ],
 "metadata": {
  "kernelspec": {
   "display_name": "Python 3.8.5 ('base')",
   "language": "python",
   "name": "python3"
  },
  "language_info": {
   "codemirror_mode": {
    "name": "ipython",
    "version": 3
   },
   "file_extension": ".py",
   "mimetype": "text/x-python",
   "name": "python",
   "nbconvert_exporter": "python",
   "pygments_lexer": "ipython3",
   "version": "3.8.5"
  },
  "vscode": {
   "interpreter": {
    "hash": "b902524267a9c80d3e3116152f6293935c4921290eb514e1ab30bc22bc4f6d3a"
   }
  }
 },
 "nbformat": 4,
 "nbformat_minor": 5
}
